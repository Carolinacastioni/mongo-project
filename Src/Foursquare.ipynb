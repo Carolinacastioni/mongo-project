{
 "cells": [
  {
   "cell_type": "markdown",
   "metadata": {},
   "source": [
    "## Import all the librearies"
   ]
  },
  {
   "cell_type": "code",
   "execution_count": 1,
   "metadata": {},
   "outputs": [
    {
     "data": {
      "text/plain": [
       "True"
      ]
     },
     "execution_count": 1,
     "metadata": {},
     "output_type": "execute_result"
    }
   ],
   "source": [
    "import pandas as pd\n",
    "import json\n",
    "import requests\n",
    "import numpy as np\n",
    "import os\n",
    "from dotenv import load_dotenv\n",
    "load_dotenv()\n"
   ]
  },
  {
   "cell_type": "markdown",
   "metadata": {},
   "source": [
    "## Search places from the point of reference using the Foursquare API:"
   ]
  },
  {
   "cell_type": "code",
   "execution_count": 2,
   "metadata": {},
   "outputs": [],
   "source": [
    "def getFromFoursquare(coordinates,distance,name):\n",
    "    url = 'https://api.foursquare.com/v2/venues/explore'\n",
    "    params = dict(\n",
    "    client_id=os.getenv(\"CLIENT_APIKEY\"),\n",
    "    client_secret=os.getenv(\"SECRET_APIKEY\"),\n",
    "    v='20200401',\n",
    "    ll= coordinates,\n",
    "    radius= distance,\n",
    "    query= name,\n",
    "    )\n",
    "    res = requests.get(url=url, params=params)\n",
    "    return res.json()"
   ]
  },
  {
   "cell_type": "markdown",
   "metadata": {},
   "source": [
    "# Requirement: Starbucks near"
   ]
  },
  {
   "cell_type": "markdown",
   "metadata": {},
   "source": [
    "Executives like Starbucks A LOT. Ensure there's a starbucks not to far.\n",
    "\n",
    "Executives represent 12% of the company members.\n",
    "\n",
    "Our point of reference is (-73.985506, 40.757929)."
   ]
  },
  {
   "cell_type": "code",
   "execution_count": 3,
   "metadata": {},
   "outputs": [],
   "source": [
    "starbucks = getFromFoursquare(\"40.757929,-73.985506,\",500,\"Starbucks\")"
   ]
  },
  {
   "cell_type": "code",
   "execution_count": 4,
   "metadata": {},
   "outputs": [
    {
     "data": {
      "text/plain": [
       "17"
      ]
     },
     "execution_count": 4,
     "metadata": {},
     "output_type": "execute_result"
    }
   ],
   "source": [
    "starbucks['response']['totalResults']"
   ]
  },
  {
   "cell_type": "markdown",
   "metadata": {},
   "source": [
    "From our point of reference we have 17 Starbucks in a 500m radius. The executives will be pretty happy.  "
   ]
  },
  {
   "cell_type": "code",
   "execution_count": 5,
   "metadata": {},
   "outputs": [],
   "source": [
    "lsta = starbucks['response']['groups']\n"
   ]
  },
  {
   "cell_type": "code",
   "execution_count": 6,
   "metadata": {},
   "outputs": [],
   "source": [
    "a = lsta[0]"
   ]
  },
  {
   "cell_type": "code",
   "execution_count": 7,
   "metadata": {},
   "outputs": [],
   "source": [
    "b = a[\"items\"]"
   ]
  },
  {
   "cell_type": "code",
   "execution_count": 8,
   "metadata": {},
   "outputs": [],
   "source": [
    "c = b[0]"
   ]
  },
  {
   "cell_type": "code",
   "execution_count": 9,
   "metadata": {},
   "outputs": [],
   "source": [
    "d = c['venue']"
   ]
  },
  {
   "cell_type": "code",
   "execution_count": 10,
   "metadata": {},
   "outputs": [],
   "source": [
    "e = d['location']"
   ]
  },
  {
   "cell_type": "code",
   "execution_count": 11,
   "metadata": {},
   "outputs": [],
   "source": [
    "starbucks_df = (e['lat'], e['lng'])"
   ]
  },
  {
   "cell_type": "code",
   "execution_count": 12,
   "metadata": {},
   "outputs": [
    {
     "data": {
      "text/plain": [
       "(40.759393, -73.985288)"
      ]
     },
     "execution_count": 12,
     "metadata": {},
     "output_type": "execute_result"
    }
   ],
   "source": [
    "starbucks_df"
   ]
  },
  {
   "cell_type": "code",
   "execution_count": 22,
   "metadata": {},
   "outputs": [],
   "source": [
    "# COMO HACER ESO PERO CON TODAS LAS LAT Y LONG???????"
   ]
  },
  {
   "cell_type": "code",
   "execution_count": null,
   "metadata": {},
   "outputs": [],
   "source": []
  },
  {
   "cell_type": "markdown",
   "metadata": {},
   "source": [
    "# Requirement: Vegan Restaurants"
   ]
  },
  {
   "cell_type": "markdown",
   "metadata": {},
   "source": [
    "The CEO is Vegan.\n",
    "\n",
    "Let's see if our coordinate (-73.985506, 40.757929) have some vegan restaurants options for him.\n",
    "\n",
    "For this, we will need to use the category from Foursquare API, here is the link: https://developer.foursquare.com/docs/build-with-foursquare/categories/"
   ]
  },
  {
   "cell_type": "code",
   "execution_count": 13,
   "metadata": {},
   "outputs": [],
   "source": [
    "def getVeganFromFoursquare(coordinates,distance,category):\n",
    "    url = 'https://api.foursquare.com/v2/venues/explore'\n",
    "    params = dict(\n",
    "    client_id=os.getenv(\"CLIENT_APIKEY\"),\n",
    "    client_secret=os.getenv(\"SECRET_APIKEY\"),\n",
    "    v='20200401',\n",
    "    ll= coordinates,\n",
    "    radius= distance,\n",
    "    categoryId= category,\n",
    "    )\n",
    "    res = requests.get(url=url, params=params)\n",
    "    return res.json()"
   ]
  },
  {
   "cell_type": "code",
   "execution_count": 14,
   "metadata": {},
   "outputs": [],
   "source": [
    "vegan = getVeganFromFoursquare(\"40.757929,-73.985506,\",500,\"4bf58dd8d48988d1d3941735\")"
   ]
  },
  {
   "cell_type": "code",
   "execution_count": 15,
   "metadata": {},
   "outputs": [
    {
     "data": {
      "text/plain": [
       "13"
      ]
     },
     "execution_count": 15,
     "metadata": {},
     "output_type": "execute_result"
    }
   ],
   "source": [
    "vegan['response']['totalResults']"
   ]
  },
  {
   "cell_type": "markdown",
   "metadata": {},
   "source": [
    "From our coordinate, we have 13 restaurants in the category: Vegetarian / Vegan Restaurant that will keep our CEO satisfied."
   ]
  },
  {
   "cell_type": "markdown",
   "metadata": {},
   "source": [
    "# Requiriment: Party"
   ]
  },
  {
   "cell_type": "markdown",
   "metadata": {},
   "source": [
    "All people in the company have between 25 and 40 years, give them some place to go to party."
   ]
  },
  {
   "cell_type": "code",
   "execution_count": 16,
   "metadata": {},
   "outputs": [],
   "source": [
    "def getPartyFromFoursquare(coordinates,distance,category):\n",
    "    url = 'https://api.foursquare.com/v2/venues/explore'\n",
    "    params = dict(\n",
    "    client_id=os.getenv(\"CLIENT_APIKEY\"),\n",
    "    client_secret=os.getenv(\"SECRET_APIKEY\"),\n",
    "    v='20200401',\n",
    "    ll= coordinates,\n",
    "    radius= distance,\n",
    "    categoryId= category,\n",
    "    )\n",
    "    res = requests.get(url=url, params=params)\n",
    "    return res.json()"
   ]
  },
  {
   "cell_type": "code",
   "execution_count": 17,
   "metadata": {},
   "outputs": [],
   "source": [
    "party = getPartyFromFoursquare(\"40.757929,-73.985506,\",500,\"4d4b7105d754a06376d81259\")"
   ]
  },
  {
   "cell_type": "code",
   "execution_count": 18,
   "metadata": {},
   "outputs": [
    {
     "data": {
      "text/plain": [
       "59"
      ]
     },
     "execution_count": 18,
     "metadata": {},
     "output_type": "execute_result"
    }
   ],
   "source": [
    "party['response']['totalResults']"
   ]
  },
  {
   "cell_type": "markdown",
   "metadata": {},
   "source": [
    "From our coordinate, we have 59 places in the category: Nightlife Spot. Let the party begin!"
   ]
  },
  {
   "cell_type": "markdown",
   "metadata": {},
   "source": [
    "# Requirement: Child Care Service"
   ]
  },
  {
   "cell_type": "markdown",
   "metadata": {},
   "source": [
    "30% of the company have at least 1 child.\n",
    "\n",
    "Check if we have any child care service in a 1KM radius."
   ]
  },
  {
   "cell_type": "code",
   "execution_count": 19,
   "metadata": {},
   "outputs": [],
   "source": [
    "def getChildFromFoursquare(coordinates,distance,category):\n",
    "    url = 'https://api.foursquare.com/v2/venues/explore'\n",
    "    params = dict(\n",
    "    client_id=os.getenv(\"CLIENT_APIKEY\"),\n",
    "    client_secret=os.getenv(\"SECRET_APIKEY\"),\n",
    "    v='20200401',\n",
    "    ll= coordinates,\n",
    "    radius= distance,\n",
    "    categoryId= category,\n",
    "    )\n",
    "    res = requests.get(url=url, params=params)\n",
    "    return res.json()"
   ]
  },
  {
   "cell_type": "code",
   "execution_count": 20,
   "metadata": {},
   "outputs": [],
   "source": [
    "child = getChildFromFoursquare(\"40.757929,-73.985506,\",500,\"5744ccdfe4b0c0459246b4c7\")"
   ]
  },
  {
   "cell_type": "code",
   "execution_count": 21,
   "metadata": {},
   "outputs": [
    {
     "data": {
      "text/plain": [
       "2"
      ]
     },
     "execution_count": 21,
     "metadata": {},
     "output_type": "execute_result"
    }
   ],
   "source": [
    "child['response']['totalResults']"
   ]
  },
  {
   "cell_type": "markdown",
   "metadata": {},
   "source": [
    "We have two child service care near the office. It might not be a lot, but at least give some options for the parents that work in our company."
   ]
  },
  {
   "cell_type": "markdown",
   "metadata": {},
   "source": [
    "# Conclusion:\n",
    "\n",
    "Our coordinate (-73.985506, 40.757929) fulfill most of the requirements of the stakeholders."
   ]
  }
 ],
 "metadata": {
  "kernelspec": {
   "display_name": "Python 3",
   "language": "python",
   "name": "python3"
  },
  "language_info": {
   "codemirror_mode": {
    "name": "ipython",
    "version": 3
   },
   "file_extension": ".py",
   "mimetype": "text/x-python",
   "name": "python",
   "nbconvert_exporter": "python",
   "pygments_lexer": "ipython3",
   "version": "3.7.5"
  }
 },
 "nbformat": 4,
 "nbformat_minor": 4
}
