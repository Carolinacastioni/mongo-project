{
 "cells": [
  {
   "cell_type": "markdown",
   "metadata": {},
   "source": [
    "## Import all the librearies"
   ]
  },
  {
   "cell_type": "code",
   "execution_count": 1,
   "metadata": {},
   "outputs": [
    {
     "data": {
      "text/plain": [
       "True"
      ]
     },
     "execution_count": 1,
     "metadata": {},
     "output_type": "execute_result"
    }
   ],
   "source": [
    "import pandas as pd\n",
    "import json\n",
    "import requests\n",
    "import numpy as np\n",
    "import os\n",
    "from dotenv import load_dotenv\n",
    "load_dotenv()\n"
   ]
  },
  {
   "cell_type": "markdown",
   "metadata": {},
   "source": [
    "## Search places from the point of reference using the Foursquare API:"
   ]
  },
  {
   "cell_type": "code",
   "execution_count": 2,
   "metadata": {},
   "outputs": [],
   "source": [
    "def getFromFoursquare(coordinates,distance,name):\n",
    "    url = 'https://api.foursquare.com/v2/venues/explore'\n",
    "    params = dict(\n",
    "    client_id=os.getenv(\"CLIENT_APIKEY\"),\n",
    "    client_secret=os.getenv(\"SECRET_APIKEY\"),\n",
    "    v='20200401',\n",
    "    ll= coordinates,\n",
    "    radius= distance,\n",
    "    query= name,\n",
    "    )\n",
    "    res = requests.get(url=url, params=params)\n",
    "    return res.json()"
   ]
  },
  {
   "cell_type": "markdown",
   "metadata": {},
   "source": [
    "# Requirement: Starbucks near"
   ]
  },
  {
   "cell_type": "markdown",
   "metadata": {},
   "source": [
    "Executives like Starbucks A LOT. Ensure there's a starbucks not to far.\n",
    "\n",
    "Executives represent 12% of the company members.\n",
    "\n",
    "Our point of reference is (-73.985506, 40.757929)."
   ]
  },
  {
   "cell_type": "code",
   "execution_count": 3,
   "metadata": {},
   "outputs": [],
   "source": [
    "starbucks = getFromFoursquare(\"40.757929,-73.985506,\",500,\"Starbucks\")"
   ]
  },
  {
   "cell_type": "code",
   "execution_count": 4,
   "metadata": {},
   "outputs": [
    {
     "data": {
      "text/plain": [
       "17"
      ]
     },
     "execution_count": 4,
     "metadata": {},
     "output_type": "execute_result"
    }
   ],
   "source": [
    "starbucks['response']['totalResults']"
   ]
  },
  {
   "cell_type": "markdown",
   "metadata": {},
   "source": [
    "From our point of reference we have 17 Starbucks in a 500m radius. The executives will be pretty happy.  "
   ]
  },
  {
   "cell_type": "markdown",
   "metadata": {},
   "source": [
    "## Get the coordinates of all Starbucks nearby"
   ]
  },
  {
   "cell_type": "code",
   "execution_count": 5,
   "metadata": {},
   "outputs": [],
   "source": [
    "lst = []\n",
    "for i in range(starbucks['response']['totalResults']):\n",
    "    lat = starbucks['response']['groups'][0]['items'][i]['venue']['location']['lat']\n",
    "    long = starbucks['response']['groups'][0]['items'][i]['venue']['location']['lng']\n",
    "    lst.append([lat,long])\n"
   ]
  },
  {
   "cell_type": "code",
   "execution_count": 6,
   "metadata": {},
   "outputs": [],
   "source": [
    "df_starbucks = pd.DataFrame(lst) \n",
    "df_starbucks.columns = [\"latitude\", \"longitude\"]\n",
    "df_starbucks[\"name\"] = \"Starbucks\""
   ]
  },
  {
   "cell_type": "markdown",
   "metadata": {},
   "source": [
    "# Requirement: Vegan Restaurants"
   ]
  },
  {
   "cell_type": "markdown",
   "metadata": {},
   "source": [
    "The CEO is Vegan.\n",
    "\n",
    "Let's see if our coordinate (-73.985506, 40.757929) have some vegan restaurants options for him.\n",
    "\n",
    "For this, we will need to use the category from Foursquare API, here is the link: https://developer.foursquare.com/docs/build-with-foursquare/categories/"
   ]
  },
  {
   "cell_type": "code",
   "execution_count": 7,
   "metadata": {},
   "outputs": [],
   "source": [
    "def getVeganFromFoursquare(coordinates,distance,category):\n",
    "    url = 'https://api.foursquare.com/v2/venues/explore'\n",
    "    params = dict(\n",
    "    client_id=os.getenv(\"CLIENT_APIKEY\"),\n",
    "    client_secret=os.getenv(\"SECRET_APIKEY\"),\n",
    "    v='20200401',\n",
    "    ll= coordinates,\n",
    "    radius= distance,\n",
    "    categoryId= category,\n",
    "    )\n",
    "    res = requests.get(url=url, params=params)\n",
    "    return res.json()"
   ]
  },
  {
   "cell_type": "code",
   "execution_count": 8,
   "metadata": {},
   "outputs": [],
   "source": [
    "vegan = getVeganFromFoursquare(\"40.757929,-73.985506,\",500,\"4bf58dd8d48988d1d3941735\")"
   ]
  },
  {
   "cell_type": "code",
   "execution_count": 9,
   "metadata": {},
   "outputs": [
    {
     "data": {
      "text/plain": [
       "13"
      ]
     },
     "execution_count": 9,
     "metadata": {},
     "output_type": "execute_result"
    }
   ],
   "source": [
    "vegan['response']['totalResults']"
   ]
  },
  {
   "cell_type": "markdown",
   "metadata": {},
   "source": [
    "From our coordinate, we have 13 restaurants in the category: Vegetarian / Vegan Restaurant that will keep our CEO satisfied."
   ]
  },
  {
   "cell_type": "markdown",
   "metadata": {},
   "source": [
    "## Get the coordinates of the Vegan restaurantes nearby"
   ]
  },
  {
   "cell_type": "code",
   "execution_count": 10,
   "metadata": {},
   "outputs": [],
   "source": [
    "lst_v = []\n",
    "for i in range(vegan['response']['totalResults']):\n",
    "    lat = vegan['response']['groups'][0]['items'][i]['venue']['location']['lat']\n",
    "    long = vegan['response']['groups'][0]['items'][i]['venue']['location']['lng']\n",
    "    lst_v.append([lat,long])\n"
   ]
  },
  {
   "cell_type": "code",
   "execution_count": 11,
   "metadata": {},
   "outputs": [],
   "source": [
    "df_vegan = pd.DataFrame(lst_v) \n",
    "df_vegan.columns = [\"latitude\", \"longitude\"]\n",
    "df_vegan[\"name\"] = \"Vegan Restaurants\""
   ]
  },
  {
   "cell_type": "markdown",
   "metadata": {},
   "source": [
    "# Requiriment: Party"
   ]
  },
  {
   "cell_type": "markdown",
   "metadata": {},
   "source": [
    "All people in the company have between 25 and 40 years, give them some place to go to party."
   ]
  },
  {
   "cell_type": "code",
   "execution_count": 12,
   "metadata": {},
   "outputs": [],
   "source": [
    "def getPartyFromFoursquare(coordinates,distance,category):\n",
    "    url = 'https://api.foursquare.com/v2/venues/explore'\n",
    "    params = dict(\n",
    "    client_id=os.getenv(\"CLIENT_APIKEY\"),\n",
    "    client_secret=os.getenv(\"SECRET_APIKEY\"),\n",
    "    v='20200401',\n",
    "    ll= coordinates,\n",
    "    radius= distance,\n",
    "    categoryId= category,\n",
    "    )\n",
    "    res = requests.get(url=url, params=params)\n",
    "    return res.json()"
   ]
  },
  {
   "cell_type": "code",
   "execution_count": 13,
   "metadata": {},
   "outputs": [],
   "source": [
    "party = getPartyFromFoursquare(\"40.757929,-73.985506,\",500,\"4d4b7105d754a06376d81259\")"
   ]
  },
  {
   "cell_type": "code",
   "execution_count": 14,
   "metadata": {},
   "outputs": [
    {
     "data": {
      "text/plain": [
       "30"
      ]
     },
     "execution_count": 14,
     "metadata": {},
     "output_type": "execute_result"
    }
   ],
   "source": [
    "len(party['response']['groups'][0]['items'])"
   ]
  },
  {
   "cell_type": "markdown",
   "metadata": {},
   "source": [
    "From our coordinate, we have 30 places in the category: Nightlife Spot. Let the party begin!"
   ]
  },
  {
   "cell_type": "markdown",
   "metadata": {},
   "source": [
    "## Get the coordinates of the party places nearby"
   ]
  },
  {
   "cell_type": "code",
   "execution_count": 15,
   "metadata": {},
   "outputs": [],
   "source": [
    "lst_p = []\n",
    "for i in range(len(party['response']['groups'][0]['items'])):\n",
    "    lat = party['response']['groups'][0]['items'][i]['venue']['location']['lat']\n",
    "    long = party['response']['groups'][0]['items'][i]['venue']['location']['lng']\n",
    "    lst_p.append([lat,long])"
   ]
  },
  {
   "cell_type": "code",
   "execution_count": 16,
   "metadata": {},
   "outputs": [],
   "source": [
    "df_party = pd.DataFrame(lst_p) \n",
    "df_party.columns = [\"latitude\", \"longitude\"]\n",
    "df_party[\"name\"] = \"Nightlife Spot\""
   ]
  },
  {
   "cell_type": "markdown",
   "metadata": {},
   "source": [
    "# Requirement: Child Care Service"
   ]
  },
  {
   "cell_type": "markdown",
   "metadata": {},
   "source": [
    "30% of the company have at least 1 child.\n",
    "\n",
    "Check if we have any child care service in a 1KM radius."
   ]
  },
  {
   "cell_type": "code",
   "execution_count": 17,
   "metadata": {},
   "outputs": [],
   "source": [
    "def getChildFromFoursquare(coordinates,distance,category):\n",
    "    url = 'https://api.foursquare.com/v2/venues/explore'\n",
    "    params = dict(\n",
    "    client_id=os.getenv(\"CLIENT_APIKEY\"),\n",
    "    client_secret=os.getenv(\"SECRET_APIKEY\"),\n",
    "    v='20200401',\n",
    "    ll= coordinates,\n",
    "    radius= distance,\n",
    "    categoryId= category,\n",
    "    )\n",
    "    res = requests.get(url=url, params=params)\n",
    "    return res.json()"
   ]
  },
  {
   "cell_type": "code",
   "execution_count": 18,
   "metadata": {},
   "outputs": [],
   "source": [
    "child = getChildFromFoursquare(\"40.757929,-73.985506,\",500,\"5744ccdfe4b0c0459246b4c7\")"
   ]
  },
  {
   "cell_type": "code",
   "execution_count": 19,
   "metadata": {},
   "outputs": [
    {
     "data": {
      "text/plain": [
       "2"
      ]
     },
     "execution_count": 19,
     "metadata": {},
     "output_type": "execute_result"
    }
   ],
   "source": [
    "child['response']['totalResults']"
   ]
  },
  {
   "cell_type": "markdown",
   "metadata": {},
   "source": [
    "We have two child service care near the office. It might not be a lot, but at least give some options for the parents that work in our company."
   ]
  },
  {
   "cell_type": "markdown",
   "metadata": {},
   "source": [
    "## Get the coordinates of the Child service care nearby"
   ]
  },
  {
   "cell_type": "code",
   "execution_count": 20,
   "metadata": {},
   "outputs": [],
   "source": [
    "lst_c = []\n",
    "for i in range(child['response']['totalResults']):\n",
    "    lat = child['response']['groups'][0]['items'][i]['venue']['location']['lat']\n",
    "    long = child['response']['groups'][0]['items'][i]['venue']['location']['lng']\n",
    "    lst_c.append([lat,long])"
   ]
  },
  {
   "cell_type": "code",
   "execution_count": 21,
   "metadata": {},
   "outputs": [],
   "source": [
    "df_child = pd.DataFrame(lst_c) \n",
    "df_child.columns = [\"latitude\", \"longitude\"]\n",
    "df_child[\"name\"] = \"Child service care\""
   ]
  },
  {
   "cell_type": "markdown",
   "metadata": {},
   "source": [
    "# Conclusion:\n",
    "\n",
    "Our coordinate (-73.985506, 40.757929) fulfill most of the requirements of the stakeholders."
   ]
  },
  {
   "cell_type": "markdown",
   "metadata": {},
   "source": [
    "## Get the final DataFrame with the coordinates of the requirements nearby the office:"
   ]
  },
  {
   "cell_type": "code",
   "execution_count": 22,
   "metadata": {},
   "outputs": [],
   "source": [
    "df_requirements = pd.concat([df_starbucks,df_vegan,df_party,df_child], axis=0)"
   ]
  },
  {
   "cell_type": "code",
   "execution_count": 23,
   "metadata": {},
   "outputs": [
    {
     "data": {
      "text/html": [
       "<div>\n",
       "<style scoped>\n",
       "    .dataframe tbody tr th:only-of-type {\n",
       "        vertical-align: middle;\n",
       "    }\n",
       "\n",
       "    .dataframe tbody tr th {\n",
       "        vertical-align: top;\n",
       "    }\n",
       "\n",
       "    .dataframe thead th {\n",
       "        text-align: right;\n",
       "    }\n",
       "</style>\n",
       "<table border=\"1\" class=\"dataframe\">\n",
       "  <thead>\n",
       "    <tr style=\"text-align: right;\">\n",
       "      <th></th>\n",
       "      <th>latitude</th>\n",
       "      <th>longitude</th>\n",
       "      <th>name</th>\n",
       "    </tr>\n",
       "  </thead>\n",
       "  <tbody>\n",
       "    <tr>\n",
       "      <th>0</th>\n",
       "      <td>40.759393</td>\n",
       "      <td>-73.985288</td>\n",
       "      <td>Starbucks</td>\n",
       "    </tr>\n",
       "    <tr>\n",
       "      <th>1</th>\n",
       "      <td>40.760041</td>\n",
       "      <td>-73.985579</td>\n",
       "      <td>Starbucks</td>\n",
       "    </tr>\n",
       "    <tr>\n",
       "      <th>2</th>\n",
       "      <td>40.756638</td>\n",
       "      <td>-73.990947</td>\n",
       "      <td>Starbucks</td>\n",
       "    </tr>\n",
       "    <tr>\n",
       "      <th>3</th>\n",
       "      <td>40.760567</td>\n",
       "      <td>-73.983809</td>\n",
       "      <td>Starbucks</td>\n",
       "    </tr>\n",
       "    <tr>\n",
       "      <th>4</th>\n",
       "      <td>40.757999</td>\n",
       "      <td>-73.988950</td>\n",
       "      <td>Starbucks</td>\n",
       "    </tr>\n",
       "  </tbody>\n",
       "</table>\n",
       "</div>"
      ],
      "text/plain": [
       "    latitude  longitude       name\n",
       "0  40.759393 -73.985288  Starbucks\n",
       "1  40.760041 -73.985579  Starbucks\n",
       "2  40.756638 -73.990947  Starbucks\n",
       "3  40.760567 -73.983809  Starbucks\n",
       "4  40.757999 -73.988950  Starbucks"
      ]
     },
     "execution_count": 23,
     "metadata": {},
     "output_type": "execute_result"
    }
   ],
   "source": [
    "df_requirements.head()"
   ]
  }
 ],
 "metadata": {
  "kernelspec": {
   "display_name": "Python 3",
   "language": "python",
   "name": "python3"
  },
  "language_info": {
   "codemirror_mode": {
    "name": "ipython",
    "version": 3
   },
   "file_extension": ".py",
   "mimetype": "text/x-python",
   "name": "python",
   "nbconvert_exporter": "python",
   "pygments_lexer": "ipython3",
   "version": "3.7.5"
  }
 },
 "nbformat": 4,
 "nbformat_minor": 4
}
