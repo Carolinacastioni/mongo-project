{
 "cells": [
  {
   "cell_type": "markdown",
   "metadata": {},
   "source": [
    "# GeoSpartial Data Project\n",
    "## TO DO's\n",
    "You recently created a new company in the `GAMING industry`. The company will have the following scheme:\n",
    "- 20 Designers\n",
    "- 5 UI/UX Engineers\n",
    "- 10 Frontend Developers\n",
    "- 15 Data Engineers\n",
    "- 5 Backend Developers\n",
    "- 20 Account Managers\n",
    "- 1 Maintenance guy that loves basketball\n",
    "- 10 Executives\n",
    "- 1 CEO/President\n",
    "As a data engineer you have asked all the employees to show their preferences on where to place the new office. Your goal is to place the **new company offices** in the best place for the company to grow. You have to found a place that more or less covers all the following requirements. Note that **it's impossible to cover all requirements**, so you have to prioritize at your glance.\n",
    "- Designers like to go to design talks and share knowledge. There must be some nearby companies that also do design.\n",
    "- 30% of the company have at least 1 child.\n",
    "- Developers like to be near successful tech startups that have raised at least 1 Million dollars.\n",
    "- Executives like Starbucks A LOT. Ensure there's a starbucks not to far.\n",
    "- Account managers need to travel a lot\n",
    "- All people in the company have between 25 and 40 years, give them some place to go to party.\n",
    "- Nobody in the company likes to have companies with more than 10 years in a radius of 2 KM.\n",
    "- The CEO is Vegan\n",
    "## Help\n",
    "- Always use standard GeoJSON Point `{ type: \"Point\", coordinates: [ 40, 5 ] }`\n",
    "- Create sphere2d index in python with pymongo: `db.collection.createIndex( { <location field> : \"2dsphere\" } )`\n",
    "- MongoDB `$near` operator: <https://docs.mongodb.com/manual/reference/operator/query/near/#op._S_near>\n",
    "## How to deliver the project\n",
    "- Create a new repo in your github account.\n",
    "- Do a PR with the link of your repo copy pasted inside `m2/geospartial-data-project/REAMDE.md` on our labs repo.\n",
    "- You must justify your decision with a map, use visualization tools like (tableau, folium, cartoframes, etc.)\n",
    "- Provide `lat` and `long` for the new office proposals.\n",
    "## Links & Resources\n",
    "- <https://developers-dot-devsite-v2-prod.appspot.com/maps/documentation/javascript/examples/geocoding-reverse>\n",
    "- <https://docs.mongodb.com/manual/geospatial-queries/>\n",
    "- <https://developers.google.com/maps/documentation/geocoding/intro>\n",
    "- <https://developers.google.com/maps/documentation/geocoding/start>\n",
    "- <https://data.crunchbase.com/docs>\n",
    "- <https://developers.google.com/places/web-service/search>\n",
    "- <https://www.youtube.com/watch?v=PtV-ZnwCjT0>\n"
   ]
  }
 ],
 "metadata": {
  "kernelspec": {
   "display_name": "Python 3",
   "language": "python",
   "name": "python3"
  },
  "language_info": {
   "codemirror_mode": {
    "name": "ipython",
    "version": 3
   },
   "file_extension": ".py",
   "mimetype": "text/x-python",
   "name": "python",
   "nbconvert_exporter": "python",
   "pygments_lexer": "ipython3",
   "version": "3.7.5"
  }
 },
 "nbformat": 4,
 "nbformat_minor": 4
}
